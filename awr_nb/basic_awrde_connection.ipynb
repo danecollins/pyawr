{
 "cells": [
  {
   "cell_type": "markdown",
   "metadata": {},
   "source": [
    "# Working with AWR Design Environment\n",
    "\n",
    "This notebook shows how to connect to AWRDE and retrieve data from a simulation.\n",
    "\n",
    "## Setup\n",
    "\n",
    "To communicate with COM enabled Windows applications we must import the com interface library using the raw win32com connection."
   ]
  },
  {
   "cell_type": "code",
   "execution_count": 3,
   "metadata": {
    "collapsed": true
   },
   "outputs": [],
   "source": [
    "# import com library\n",
    "import win32com.client"
   ]
  },
  {
   "cell_type": "markdown",
   "metadata": {},
   "source": [
    "Once this is done, we can connect to AWRDE. If it is already running it will connect to that instance, otherwise it will be started up.  If you have multiple instances running and want to connect to a specific instance, see this [link](http://kb.awr.com/display/SCRIPTS/AWR+Scripting+in+Python)"
   ]
  },
  {
   "cell_type": "code",
   "execution_count": 4,
   "metadata": {
    "collapsed": true
   },
   "outputs": [],
   "source": [
    "# connect to awrde\n",
    "mwo = win32com.client.Dispatch(\"MWOApp.MWOffice\")"
   ]
  },
  {
   "cell_type": "markdown",
   "metadata": {},
   "source": [
    "## Open Project, Get Data\n",
    "\n",
    "Let's open the LPF_filter.emp example"
   ]
  },
  {
   "cell_type": "code",
   "execution_count": 8,
   "metadata": {},
   "outputs": [
    {
     "data": {
      "text/plain": [
       "True"
      ]
     },
     "execution_count": 8,
     "metadata": {},
     "output_type": "execute_result"
    }
   ],
   "source": [
    "import os\n",
    "example_directory = mwo.Directories(8).ValueAsString\n",
    "example_filename = os.path.join(example_directory, 'LPF_lumped.emp')\n",
    "mwo.Open(example_filename)"
   ]
  },
  {
   "cell_type": "markdown",
   "metadata": {},
   "source": [
    "Next we will simulate and bring some results back."
   ]
  },
  {
   "cell_type": "code",
   "execution_count": 10,
   "metadata": {
    "collapsed": true
   },
   "outputs": [],
   "source": [
    "mwo.Project.Simulate()"
   ]
  },
  {
   "cell_type": "code",
   "execution_count": 49,
   "metadata": {
    "collapsed": true
   },
   "outputs": [],
   "source": [
    "graph = mwo.Project.Graphs('Passband and Stopband')\n",
    "m1 = graph.Measurements(1)\n",
    "m2 = graph.Measurements(2)\n",
    "frequencies = m1.XValues\n",
    "S11_dB = m1.YValues(0)  # in this case we have to specify a dimension\n",
    "S21_dB = m2.YValues(0)"
   ]
  },
  {
   "cell_type": "markdown",
   "metadata": {},
   "source": [
    "## Create a Plot\n",
    "I'll use matplotlib to plot but we could use any other python based plotting package."
   ]
  },
  {
   "cell_type": "code",
   "execution_count": 50,
   "metadata": {},
   "outputs": [
    {
     "data": {
      "image/png": "[encoded data removed]",
      "text/plain": [
       "<matplotlib.figure.Figure at 0x1eb6dbf5828>"
      ]
     },
     "metadata": {},
     "output_type": "display_data"
    }
   ],
   "source": [
    "%matplotlib inline\n",
    "import matplotlib.pyplot as plt\n",
    "import pylab\n",
    "pylab.rcParams['figure.figsize'] = (10,6)  # set default plot size\n",
    "plt.plot(frequencies, S11_dB)\n",
    "plt.plot(frequencies, S21_dB)\n",
    "plt.show()"
   ]
  },
  {
   "cell_type": "markdown",
   "metadata": {},
   "source": [
    "## Perform Analysis\n",
    "\n",
    "Often the reason for wanting to pull data into Python is to do further analysis.  For this we would like to get the data into a DataFrame."
   ]
  },
  {
   "cell_type": "code",
   "execution_count": 54,
   "metadata": {},
   "outputs": [
    {
     "data": {
      "text/html": [
       "<div>\n",
       "<style>\n",
       "    .dataframe thead tr:only-child th {\n",
       "        text-align: right;\n",
       "    }\n",
       "\n",
       "    .dataframe thead th {\n",
       "        text-align: left;\n",
       "    }\n",
       "\n",
       "    .dataframe tbody tr th {\n",
       "        vertical-align: top;\n",
       "    }\n",
       "</style>\n",
       "<table border=\"1\" class=\"dataframe\">\n",
       "  <thead>\n",
       "    <tr style=\"text-align: right;\">\n",
       "      <th></th>\n",
       "      <th>S21</th>\n",
       "      <th>S11</th>\n",
       "    </tr>\n",
       "  </thead>\n",
       "  <tbody>\n",
       "    <tr>\n",
       "      <th>100000000.0</th>\n",
       "      <td>-17.874667</td>\n",
       "      <td>-0.547948</td>\n",
       "    </tr>\n",
       "    <tr>\n",
       "      <th>110000000.0</th>\n",
       "      <td>-17.757855</td>\n",
       "      <td>-0.546338</td>\n",
       "    </tr>\n",
       "    <tr>\n",
       "      <th>120000000.0</th>\n",
       "      <td>-17.773001</td>\n",
       "      <td>-0.543376</td>\n",
       "    </tr>\n",
       "    <tr>\n",
       "      <th>130000000.0</th>\n",
       "      <td>-17.920683</td>\n",
       "      <td>-0.539243</td>\n",
       "    </tr>\n",
       "    <tr>\n",
       "      <th>140000000.0</th>\n",
       "      <td>-18.203183</td>\n",
       "      <td>-0.534255</td>\n",
       "    </tr>\n",
       "  </tbody>\n",
       "</table>\n",
       "</div>"
      ],
      "text/plain": [
       "                   S21       S11\n",
       "100000000.0 -17.874667 -0.547948\n",
       "110000000.0 -17.757855 -0.546338\n",
       "120000000.0 -17.773001 -0.543376\n",
       "130000000.0 -17.920683 -0.539243\n",
       "140000000.0 -18.203183 -0.534255"
      ]
     },
     "execution_count": 54,
     "metadata": {},
     "output_type": "execute_result"
    }
   ],
   "source": [
    "import pandas as pd\n",
    "S11db = pd.Series(S11_dB, index=frequencies)\n",
    "S21db = pd.Series(S21_dB, index=frequencies)\n",
    "df = pd.concat([S11db, S21db], axis=1)\n",
    "df.columns=['S21', 'S11']\n",
    "df.head()"
   ]
  },
  {
   "cell_type": "markdown",
   "metadata": {},
   "source": [
    "This is a little ugly with the frequencies in Hertz so let's convert them to GHz"
   ]
  },
  {
   "cell_type": "code",
   "execution_count": 55,
   "metadata": {},
   "outputs": [
    {
     "data": {
      "text/html": [
       "<div>\n",
       "<style>\n",
       "    .dataframe thead tr:only-child th {\n",
       "        text-align: right;\n",
       "    }\n",
       "\n",
       "    .dataframe thead th {\n",
       "        text-align: left;\n",
       "    }\n",
       "\n",
       "    .dataframe tbody tr th {\n",
       "        vertical-align: top;\n",
       "    }\n",
       "</style>\n",
       "<table border=\"1\" class=\"dataframe\">\n",
       "  <thead>\n",
       "    <tr style=\"text-align: right;\">\n",
       "      <th></th>\n",
       "      <th>S21</th>\n",
       "      <th>S11</th>\n",
       "    </tr>\n",
       "  </thead>\n",
       "  <tbody>\n",
       "    <tr>\n",
       "      <th>0.10</th>\n",
       "      <td>-17.874667</td>\n",
       "      <td>-0.547948</td>\n",
       "    </tr>\n",
       "    <tr>\n",
       "      <th>0.11</th>\n",
       "      <td>-17.757855</td>\n",
       "      <td>-0.546338</td>\n",
       "    </tr>\n",
       "    <tr>\n",
       "      <th>0.12</th>\n",
       "      <td>-17.773001</td>\n",
       "      <td>-0.543376</td>\n",
       "    </tr>\n",
       "    <tr>\n",
       "      <th>0.13</th>\n",
       "      <td>-17.920683</td>\n",
       "      <td>-0.539243</td>\n",
       "    </tr>\n",
       "    <tr>\n",
       "      <th>0.14</th>\n",
       "      <td>-18.203183</td>\n",
       "      <td>-0.534255</td>\n",
       "    </tr>\n",
       "  </tbody>\n",
       "</table>\n",
       "</div>"
      ],
      "text/plain": [
       "            S21       S11\n",
       "0.10 -17.874667 -0.547948\n",
       "0.11 -17.757855 -0.546338\n",
       "0.12 -17.773001 -0.543376\n",
       "0.13 -17.920683 -0.539243\n",
       "0.14 -18.203183 -0.534255"
      ]
     },
     "execution_count": 55,
     "metadata": {},
     "output_type": "execute_result"
    }
   ],
   "source": [
    "df.index=df.index/1e9\n",
    "df.head()"
   ]
  },
  {
   "cell_type": "code",
   "execution_count": null,
   "metadata": {
    "collapsed": true
   },
   "outputs": [],
   "source": []
  }
 ],
 "metadata": {
  "kernelspec": {
   "display_name": "Python 3",
   "language": "python",
   "name": "python3"
  },
  "language_info": {
   "codemirror_mode": {
    "name": "ipython",
    "version": 3
   },
   "file_extension": ".py",
   "mimetype": "text/x-python",
   "name": "python",
   "nbconvert_exporter": "python",
   "pygments_lexer": "ipython3",
   "version": "3.6.2"
  }
 },
 "nbformat": 4,
 "nbformat_minor": 2
}
