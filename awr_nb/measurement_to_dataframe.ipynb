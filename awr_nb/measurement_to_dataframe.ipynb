{
 "cells": [
  {
   "cell_type": "markdown",
   "metadata": {},
   "source": [
    "# Pulling AWR data into Python\n",
    "\n",
    "This notebook uses the pyawr module to bring data into Python (Pandas dataframes).  It also describes some of the utility functions defined in pyawr."
   ]
  },
  {
   "cell_type": "code",
   "execution_count": 2,
   "metadata": {},
   "outputs": [],
   "source": [
    "import os\n",
    "import pandas as pd\n",
    "from pyawr import connect, AwrMeas, as_list, meas_from_graph, open_example"
   ]
  },
  {
   "cell_type": "code",
   "execution_count": 3,
   "metadata": {},
   "outputs": [
    {
     "name": "stderr",
     "output_type": "stream",
     "text": [
      "***** Loading type information for Microwave Office  ********************\n"
     ]
    }
   ],
   "source": [
    "# connect to AWRDE\n",
    "awrde, awrc = connect()  # awrde is the pointed to the awrde COM object while awrc is the AWR defined constants"
   ]
  },
  {
   "cell_type": "code",
   "execution_count": 4,
   "metadata": {},
   "outputs": [],
   "source": [
    "# Open the lumped filter example\n",
    "open_example(awrde, 'LPF_lumped.emp')"
   ]
  },
  {
   "cell_type": "code",
   "execution_count": 5,
   "metadata": {},
   "outputs": [
    {
     "data": {
      "text/plain": [
       "['Passband and Stopband', 'Input Match', 'Group Delay', 'Output Match']"
      ]
     },
     "execution_count": 5,
     "metadata": {},
     "output_type": "execute_result"
    }
   ],
   "source": [
    "# Let's see what graphs it has\n",
    "[x.Name for x in awrde.Project.Graphs]"
   ]
  },
  {
   "cell_type": "code",
   "execution_count": 6,
   "metadata": {},
   "outputs": [],
   "source": [
    "# We need to simulate before we can get results\n",
    "awrde.Project.Simulate()"
   ]
  },
  {
   "cell_type": "code",
   "execution_count": 7,
   "metadata": {},
   "outputs": [
    {
     "data": {
      "text/plain": [
       "[<win32com.gen_py.5AE2215C-270C-470B-A2B6-609A964E53A2x0x13x0.IMeasurement instance at 0x2757661343872>,\n",
       " <win32com.gen_py.5AE2215C-270C-470B-A2B6-609A964E53A2x0x13x0.IMeasurement instance at 0x2757661299152>,\n",
       " <win32com.gen_py.5AE2215C-270C-470B-A2B6-609A964E53A2x0x13x0.IMeasurement instance at 0x2757660324808>]"
      ]
     },
     "execution_count": 7,
     "metadata": {},
     "output_type": "execute_result"
    }
   ],
   "source": [
    "# Get all the measurements on the Passband and Stopband graph\n",
    "measurements = as_list(awrde.Project.Graphs('Passband and Stopband').Measurements)\n",
    "measurements"
   ]
  },
  {
   "cell_type": "markdown",
   "metadata": {},
   "source": [
    "## Transfer Measurement to DataFrame\n",
    "\n",
    "Since it is common to want to transfer data from a measurement to a DataFrame so that we can work with it in Python we have created a class to simplify this.\n",
    "\n",
    "### Unswept Data"
   ]
  },
  {
   "cell_type": "code",
   "execution_count": 8,
   "metadata": {},
   "outputs": [
    {
     "name": "stdout",
     "output_type": "stream",
     "text": [
      "AwrMeas(LPF:DB(|S(1,1)|),type=mwMDT_ReflectionData,dim=2,pts=95)\n"
     ]
    }
   ],
   "source": [
    "m1 = AwrMeas(measurements[0])  # it takes a measurement object as an argument\n",
    "print(m1)"
   ]
  },
  {
   "cell_type": "code",
   "execution_count": 9,
   "metadata": {},
   "outputs": [
    {
     "name": "stdout",
     "output_type": "stream",
     "text": [
      "DB(|S(1,1)|)\n",
      "LPF\n",
      "mwMDT_ReflectionData\n",
      "2\n",
      "mwUT_Frequency\n",
      "mwUT_None\n"
     ]
    }
   ],
   "source": [
    "# the AWR measurement has several useful properties\n",
    "print(m1.name)\n",
    "print(m1.source)\n",
    "print(m1.type)\n",
    "print(m1.plot_dim)\n",
    "print(m1.x_units)\n",
    "print(m1.y_units)"
   ]
  },
  {
   "cell_type": "code",
   "execution_count": 10,
   "metadata": {},
   "outputs": [
    {
     "data": {
      "text/html": [
       "<div>\n",
       "<style>\n",
       "    .dataframe thead tr:only-child th {\n",
       "        text-align: right;\n",
       "    }\n",
       "\n",
       "    .dataframe thead th {\n",
       "        text-align: left;\n",
       "    }\n",
       "\n",
       "    .dataframe tbody tr th {\n",
       "        vertical-align: top;\n",
       "    }\n",
       "</style>\n",
       "<table border=\"1\" class=\"dataframe\">\n",
       "  <thead>\n",
       "    <tr style=\"text-align: right;\">\n",
       "      <th></th>\n",
       "      <th>name</th>\n",
       "      <th>source</th>\n",
       "      <th>x</th>\n",
       "      <th>y</th>\n",
       "    </tr>\n",
       "  </thead>\n",
       "  <tbody>\n",
       "    <tr>\n",
       "      <th>0</th>\n",
       "      <td>DB(|S(1,1)|)</td>\n",
       "      <td>LPF</td>\n",
       "      <td>100000000.0</td>\n",
       "      <td>-17.874667</td>\n",
       "    </tr>\n",
       "    <tr>\n",
       "      <th>1</th>\n",
       "      <td>DB(|S(1,1)|)</td>\n",
       "      <td>LPF</td>\n",
       "      <td>110000000.0</td>\n",
       "      <td>-17.757855</td>\n",
       "    </tr>\n",
       "    <tr>\n",
       "      <th>2</th>\n",
       "      <td>DB(|S(1,1)|)</td>\n",
       "      <td>LPF</td>\n",
       "      <td>120000000.0</td>\n",
       "      <td>-17.773001</td>\n",
       "    </tr>\n",
       "    <tr>\n",
       "      <th>3</th>\n",
       "      <td>DB(|S(1,1)|)</td>\n",
       "      <td>LPF</td>\n",
       "      <td>130000000.0</td>\n",
       "      <td>-17.920683</td>\n",
       "    </tr>\n",
       "    <tr>\n",
       "      <th>4</th>\n",
       "      <td>DB(|S(1,1)|)</td>\n",
       "      <td>LPF</td>\n",
       "      <td>140000000.0</td>\n",
       "      <td>-18.203183</td>\n",
       "    </tr>\n",
       "  </tbody>\n",
       "</table>\n",
       "</div>"
      ],
      "text/plain": [
       "           name source            x          y\n",
       "0  DB(|S(1,1)|)    LPF  100000000.0 -17.874667\n",
       "1  DB(|S(1,1)|)    LPF  110000000.0 -17.757855\n",
       "2  DB(|S(1,1)|)    LPF  120000000.0 -17.773001\n",
       "3  DB(|S(1,1)|)    LPF  130000000.0 -17.920683\n",
       "4  DB(|S(1,1)|)    LPF  140000000.0 -18.203183"
      ]
     },
     "execution_count": 10,
     "metadata": {},
     "output_type": "execute_result"
    }
   ],
   "source": [
    "# as well as the data\n",
    "m1.df.head()"
   ]
  },
  {
   "cell_type": "markdown",
   "metadata": {},
   "source": [
    "### Swept Data\n",
    "\n",
    "In the case of swept data we must also bring over the sweep variables.  This is done automatically in AwrMeas and those variables are added to the dataframe.\n",
    "\n",
    "Let's look at an "
   ]
  },
  {
   "cell_type": "code",
   "execution_count": 15,
   "metadata": {},
   "outputs": [],
   "source": [
    "open_example(awrde, 'BJT_Characterization.emp')\n",
    "ms = as_list(awrde.Project.Graphs('Dynamic Load Line').Measurements)"
   ]
  },
  {
   "cell_type": "code",
   "execution_count": 35,
   "metadata": {},
   "outputs": [],
   "source": [
    "swept_meas = AwrMeas(ms[0])"
   ]
  },
  {
   "cell_type": "code",
   "execution_count": 36,
   "metadata": {},
   "outputs": [
    {
     "data": {
      "text/html": [
       "<div>\n",
       "<style>\n",
       "    .dataframe thead tr:only-child th {\n",
       "        text-align: right;\n",
       "    }\n",
       "\n",
       "    .dataframe thead th {\n",
       "        text-align: left;\n",
       "    }\n",
       "\n",
       "    .dataframe tbody tr th {\n",
       "        vertical-align: top;\n",
       "    }\n",
       "</style>\n",
       "<table border=\"1\" class=\"dataframe\">\n",
       "  <thead>\n",
       "    <tr style=\"text-align: right;\">\n",
       "      <th></th>\n",
       "      <th>Istep</th>\n",
       "      <th>Istep_unit</th>\n",
       "      <th>name</th>\n",
       "      <th>source</th>\n",
       "      <th>x</th>\n",
       "      <th>y</th>\n",
       "    </tr>\n",
       "  </thead>\n",
       "  <tbody>\n",
       "    <tr>\n",
       "      <th>0</th>\n",
       "      <td>0.0</td>\n",
       "      <td>mwUT_Current</td>\n",
       "      <td>IVCurve()</td>\n",
       "      <td>IV.AP_DC</td>\n",
       "      <td>0.0</td>\n",
       "      <td>3.297266e-23</td>\n",
       "    </tr>\n",
       "    <tr>\n",
       "      <th>1</th>\n",
       "      <td>0.0</td>\n",
       "      <td>mwUT_Current</td>\n",
       "      <td>IVCurve()</td>\n",
       "      <td>IV.AP_DC</td>\n",
       "      <td>0.1</td>\n",
       "      <td>1.534091e-12</td>\n",
       "    </tr>\n",
       "    <tr>\n",
       "      <th>2</th>\n",
       "      <td>0.0</td>\n",
       "      <td>mwUT_Current</td>\n",
       "      <td>IVCurve()</td>\n",
       "      <td>IV.AP_DC</td>\n",
       "      <td>0.2</td>\n",
       "      <td>3.101040e-12</td>\n",
       "    </tr>\n",
       "    <tr>\n",
       "      <th>3</th>\n",
       "      <td>0.0</td>\n",
       "      <td>mwUT_Current</td>\n",
       "      <td>IVCurve()</td>\n",
       "      <td>IV.AP_DC</td>\n",
       "      <td>0.3</td>\n",
       "      <td>4.779475e-12</td>\n",
       "    </tr>\n",
       "    <tr>\n",
       "      <th>4</th>\n",
       "      <td>0.0</td>\n",
       "      <td>mwUT_Current</td>\n",
       "      <td>IVCurve()</td>\n",
       "      <td>IV.AP_DC</td>\n",
       "      <td>0.4</td>\n",
       "      <td>6.579827e-12</td>\n",
       "    </tr>\n",
       "  </tbody>\n",
       "</table>\n",
       "</div>"
      ],
      "text/plain": [
       "   Istep    Istep_unit       name    source    x             y\n",
       "0    0.0  mwUT_Current  IVCurve()  IV.AP_DC  0.0  3.297266e-23\n",
       "1    0.0  mwUT_Current  IVCurve()  IV.AP_DC  0.1  1.534091e-12\n",
       "2    0.0  mwUT_Current  IVCurve()  IV.AP_DC  0.2  3.101040e-12\n",
       "3    0.0  mwUT_Current  IVCurve()  IV.AP_DC  0.3  4.779475e-12\n",
       "4    0.0  mwUT_Current  IVCurve()  IV.AP_DC  0.4  6.579827e-12"
      ]
     },
     "execution_count": 36,
     "metadata": {},
     "output_type": "execute_result"
    }
   ],
   "source": [
    "swept_meas.df.head()"
   ]
  },
  {
   "cell_type": "markdown",
   "metadata": {},
   "source": [
    "Here we see that this dataframe has additional columns for Istep, the swept variable, and Istep_unit, the units for the Istep variable."
   ]
  }
 ],
 "metadata": {
  "kernelspec": {
   "display_name": "Python 3",
   "language": "python",
   "name": "python3"
  },
  "language_info": {
   "codemirror_mode": {
    "name": "ipython",
    "version": 3
   },
   "file_extension": ".py",
   "mimetype": "text/x-python",
   "name": "python",
   "nbconvert_exporter": "python",
   "pygments_lexer": "ipython3",
   "version": "3.6.2"
  }
 },
 "nbformat": 4,
 "nbformat_minor": 2
}
